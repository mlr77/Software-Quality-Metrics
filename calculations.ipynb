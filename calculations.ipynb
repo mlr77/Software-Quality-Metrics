{
 "cells": [
  {
   "cell_type": "code",
   "execution_count": 1,
   "metadata": {},
   "outputs": [],
   "source": [
    "# upyter notebook --no-browser \\\n",
    "# --NotebookApp.token=thebe-test-secret \\\n",
    "# --NotebookApp.allow_origin='http://127.0.0.1:8080'\n"
   ]
  },
  {
   "cell_type": "code",
   "execution_count": null,
   "metadata": {},
   "outputs": [],
   "source": []
  }
 ],
 "metadata": {
  "kernelspec": {
   "display_name": "Python 3.7.11 ('demo')",
   "language": "python",
   "name": "python3"
  },
  "language_info": {
   "codemirror_mode": {
    "name": "ipython",
    "version": 3
   },
   "file_extension": ".py",
   "mimetype": "text/x-python",
   "name": "python",
   "nbconvert_exporter": "python",
   "pygments_lexer": "ipython3",
   "version": "3.7.11"
  },
  "orig_nbformat": 4,
  "vscode": {
   "interpreter": {
    "hash": "c8cb3d528671f41a1c583c93dcd57fdc080d8531c7921a11eb52c4286db369d4"
   }
  }
 },
 "nbformat": 4,
 "nbformat_minor": 2
}
